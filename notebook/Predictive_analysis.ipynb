{
 "cells": [
  {
   "cell_type": "markdown",
   "id": "5a2dda39",
   "metadata": {},
   "source": [
    "Craw data"
   ]
  },
  {
   "cell_type": "code",
   "execution_count": 2,
   "id": "7006205e",
   "metadata": {},
   "outputs": [],
   "source": [
    "import yfinance as yf\n",
    "import pandas as pd\n"
   ]
  },
  {
   "cell_type": "code",
   "execution_count": 3,
   "id": "514d8fe5",
   "metadata": {},
   "outputs": [],
   "source": [
    "ticker = yf.Ticker(\"VNM\")  \n",
    "data = ticker.history(period=\"20y\")"
   ]
  },
  {
   "cell_type": "code",
   "execution_count": 4,
   "id": "be4807cd",
   "metadata": {},
   "outputs": [
    {
     "name": "stdout",
     "output_type": "stream",
     "text": [
      "                                Open       High        Low      Close  Volume  \\\n",
      "Date                                                                            \n",
      "2009-08-14 00:00:00-04:00  20.685424  20.708426  19.673387  19.949398       0   \n",
      "2009-08-17 00:00:00-04:00  19.972401  22.594498  19.320712  19.343712       0   \n",
      "2009-08-18 00:00:00-04:00  20.693095  20.693095  19.566054  19.742393       0   \n",
      "2009-08-19 00:00:00-04:00  19.803733  20.118078  19.604392  20.033741       0   \n",
      "2009-08-20 00:00:00-04:00  20.248416  20.953776  20.240749  20.677765       0   \n",
      "\n",
      "                           Dividends  Stock Splits  Capital Gains  \n",
      "Date                                                               \n",
      "2009-08-14 00:00:00-04:00        0.0           0.0            0.0  \n",
      "2009-08-17 00:00:00-04:00        0.0           0.0            0.0  \n",
      "2009-08-18 00:00:00-04:00        0.0           0.0            0.0  \n",
      "2009-08-19 00:00:00-04:00        0.0           0.0            0.0  \n",
      "2009-08-20 00:00:00-04:00        0.0           0.0            0.0  \n",
      "                                Open       High        Low      Close  Volume  \\\n",
      "Date                                                                            \n",
      "2009-08-14 00:00:00-04:00  20.685424  20.708426  19.673387  19.949398       0   \n",
      "2009-08-17 00:00:00-04:00  19.972401  22.594498  19.320712  19.343712       0   \n",
      "2009-08-18 00:00:00-04:00  20.693095  20.693095  19.566054  19.742393       0   \n",
      "2009-08-19 00:00:00-04:00  19.803733  20.118078  19.604392  20.033741       0   \n",
      "2009-08-20 00:00:00-04:00  20.248416  20.953776  20.240749  20.677765       0   \n",
      "...                              ...        ...        ...        ...     ...   \n",
      "2025-05-28 00:00:00-04:00  13.610000  13.740000  13.600000  13.710000  679900   \n",
      "2025-05-29 00:00:00-04:00  13.680000  13.680000  13.480000  13.510000  981200   \n",
      "2025-05-30 00:00:00-04:00  13.500000  13.640000  13.500000  13.590000  362000   \n",
      "2025-06-02 00:00:00-04:00  13.740000  13.830000  13.670000  13.810000  562100   \n",
      "2025-06-03 00:00:00-04:00  13.850000  13.955000  13.825000  13.919700  231398   \n",
      "\n",
      "                           Dividends  Stock Splits  Capital Gains  \n",
      "Date                                                               \n",
      "2009-08-14 00:00:00-04:00        0.0           0.0            0.0  \n",
      "2009-08-17 00:00:00-04:00        0.0           0.0            0.0  \n",
      "2009-08-18 00:00:00-04:00        0.0           0.0            0.0  \n",
      "2009-08-19 00:00:00-04:00        0.0           0.0            0.0  \n",
      "2009-08-20 00:00:00-04:00        0.0           0.0            0.0  \n",
      "...                              ...           ...            ...  \n",
      "2025-05-28 00:00:00-04:00        0.0           0.0            0.0  \n",
      "2025-05-29 00:00:00-04:00        0.0           0.0            0.0  \n",
      "2025-05-30 00:00:00-04:00        0.0           0.0            0.0  \n",
      "2025-06-02 00:00:00-04:00        0.0           0.0            0.0  \n",
      "2025-06-03 00:00:00-04:00        0.0           0.0            0.0  \n",
      "\n",
      "[3975 rows x 8 columns]\n"
     ]
    }
   ],
   "source": [
    "print(data.head())\n",
    "print(data)"
   ]
  },
  {
   "cell_type": "code",
   "execution_count": 5,
   "id": "21540ffd",
   "metadata": {},
   "outputs": [],
   "source": [
    "\n",
    "data.to_csv(r'..\\data\\finance_VNM_raw.csv')"
   ]
  },
  {
   "cell_type": "code",
   "execution_count": 6,
   "id": "2a2be311",
   "metadata": {},
   "outputs": [
    {
     "name": "stdout",
     "output_type": "stream",
     "text": [
      "<class 'pandas.core.frame.DataFrame'>\n"
     ]
    }
   ],
   "source": [
    "print(type(data))"
   ]
  },
  {
   "cell_type": "markdown",
   "id": "7ff3f3de",
   "metadata": {},
   "source": [
    "Pre-Processing"
   ]
  },
  {
   "cell_type": "code",
   "execution_count": null,
   "id": "50568134",
   "metadata": {},
   "outputs": [
    {
     "ename": "NameError",
     "evalue": "name 'da' is not defined",
     "output_type": "error",
     "traceback": [
      "\u001b[31m---------------------------------------------------------------------------\u001b[39m",
      "\u001b[31mNameError\u001b[39m                                 Traceback (most recent call last)",
      "\u001b[36mCell\u001b[39m\u001b[36m \u001b[39m\u001b[32mIn[7]\u001b[39m\u001b[32m, line 1\u001b[39m\n\u001b[32m----> \u001b[39m\u001b[32m1\u001b[39m df = \u001b[43mda\u001b[49m\n",
      "\u001b[31mNameError\u001b[39m: name 'da' is not defined"
     ]
    }
   ],
   "source": []
  }
 ],
 "metadata": {
  "kernelspec": {
   "display_name": "venv",
   "language": "python",
   "name": "python3"
  },
  "language_info": {
   "codemirror_mode": {
    "name": "ipython",
    "version": 3
   },
   "file_extension": ".py",
   "mimetype": "text/x-python",
   "name": "python",
   "nbconvert_exporter": "python",
   "pygments_lexer": "ipython3",
   "version": "3.11.9"
  }
 },
 "nbformat": 4,
 "nbformat_minor": 5
}
